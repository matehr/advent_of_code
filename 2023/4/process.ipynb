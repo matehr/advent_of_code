{
  "nbformat": 4,
  "nbformat_minor": 0,
  "metadata": {
    "colab": {
      "provenance": [],
      "authorship_tag": "ABX9TyPkyp8lM3XHCuESBWgox5tu"
    },
    "kernelspec": {
      "name": "python3",
      "display_name": "Python 3"
    },
    "language_info": {
      "name": "python"
    }
  },
  "cells": [
    {
      "cell_type": "code",
      "source": [
        "import re"
      ],
      "metadata": {
        "id": "SEKozyG__9aY"
      },
      "execution_count": 1,
      "outputs": []
    },
    {
      "cell_type": "code",
      "execution_count": 2,
      "metadata": {
        "id": "BhbpuZxV_FS9"
      },
      "outputs": [],
      "source": [
        "def read_file(path):\n",
        "  lines = []\n",
        "  with open(path, \"r\") as file:\n",
        "    for line in file:\n",
        "      line = re.sub(r\"Card\\s+\\d+:\\s\", \"\", line)\n",
        "      (winning_numbers, my_numbers) = line.strip().split(\"|\")\n",
        "      lines.append((winning_numbers, my_numbers))\n",
        "  return lines"
      ]
    },
    {
      "cell_type": "code",
      "source": [
        "def score_game(my_numbers, winning_numbers, card_counts, game_number):\n",
        "  game_score = 0\n",
        "  numbers_won = 0\n",
        "  for number in my_numbers:\n",
        "    if number in winning_numbers:\n",
        "      numbers_won += 1\n",
        "      if game_score == 0:\n",
        "        game_score += 1\n",
        "      else:\n",
        "        game_score *= 2\n",
        "  i = 0\n",
        "  while i < card_counts[game_number]:\n",
        "    i += 1\n",
        "    added_cards = 0\n",
        "    temp_game_number = game_number\n",
        "    while added_cards < numbers_won:\n",
        "      added_cards += 1\n",
        "      temp_game_number += 1\n",
        "      if game_number < len(card_counts) - 1:\n",
        "        card_counts[temp_game_number] += 1\n",
        "\n",
        "  return game_score, card_counts"
      ],
      "metadata": {
        "id": "gimD9WRedYZL"
      },
      "execution_count": 15,
      "outputs": []
    },
    {
      "cell_type": "code",
      "source": [
        "def determine_winners(lines):\n",
        "  overall_score = 0\n",
        "  card_counts = [1] * len(lines)\n",
        "\n",
        "  game_number = 0\n",
        "  for (winning_numbers_string, my_numbers_string) in lines:\n",
        "    winning_numbers_string = winning_numbers_string.strip()\n",
        "    my_numbers_string = my_numbers_string.strip()\n",
        "\n",
        "    winning_numbers_list = winning_numbers_string.split()\n",
        "    my_numbers_list = my_numbers_string.split()\n",
        "\n",
        "    winning_numbers = []\n",
        "    for string in winning_numbers_list:\n",
        "      winning_numbers.append(int(string))\n",
        "\n",
        "    my_numbers = []\n",
        "    for string in my_numbers_list:\n",
        "      my_numbers.append(int(string))\n",
        "\n",
        "    game_score, card_counts = score_game(my_numbers, winning_numbers, card_counts, game_number)\n",
        "    overall_score += game_score\n",
        "\n",
        "    game_number += 1\n",
        "  return overall_score, sum(card_counts)"
      ],
      "metadata": {
        "id": "zOZAqeA7BasS"
      },
      "execution_count": 16,
      "outputs": []
    },
    {
      "cell_type": "code",
      "source": [
        "lines = read_file(\"input.txt\")\n",
        "overall_score, card_counts = determine_winners(lines)\n",
        "print(f\"Overall score: {overall_score}\\n Total Cards: {card_counts}\")"
      ],
      "metadata": {
        "colab": {
          "base_uri": "https://localhost:8080/"
        },
        "id": "OUftiWjrADaE",
        "outputId": "6bcb859e-aeb6-44af-fd4c-d8b7b6c43202"
      },
      "execution_count": 17,
      "outputs": [
        {
          "output_type": "stream",
          "name": "stdout",
          "text": [
            "Overall score: 26443\n",
            " Total Cards: 6284877\n"
          ]
        }
      ]
    },
    {
      "cell_type": "code",
      "source": [],
      "metadata": {
        "id": "cTmmt8tlAFJp"
      },
      "execution_count": null,
      "outputs": []
    }
  ]
}
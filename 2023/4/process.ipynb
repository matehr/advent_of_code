{
  "nbformat": 4,
  "nbformat_minor": 0,
  "metadata": {
    "colab": {
      "provenance": [],
      "authorship_tag": "ABX9TyMDoEq9EpSIiUTv11LRFAMV"
    },
    "kernelspec": {
      "name": "python3",
      "display_name": "Python 3"
    },
    "language_info": {
      "name": "python"
    }
  },
  "cells": [
    {
      "cell_type": "code",
      "source": [
        "import re"
      ],
      "metadata": {
        "id": "SEKozyG__9aY"
      },
      "execution_count": 1,
      "outputs": []
    },
    {
      "cell_type": "code",
      "execution_count": 8,
      "metadata": {
        "id": "BhbpuZxV_FS9"
      },
      "outputs": [],
      "source": [
        "def read_file(path):\n",
        "  lines = []\n",
        "  with open(path, \"r\") as file:\n",
        "    for line in file:\n",
        "      line = re.sub(r\"Card\\s+\\d+:\\s\", \"\", line)\n",
        "      (winning_numbers, my_numbers) = line.strip().split(\"|\")\n",
        "      lines.append((winning_numbers, my_numbers))\n",
        "  return lines"
      ]
    },
    {
      "cell_type": "code",
      "source": [
        "def determine_winners(lines):\n",
        "  overall_score = 0\n",
        "  for (winning_numbers_string, my_numbers_string) in lines:\n",
        "    winning_numbers_string = winning_numbers_string.strip()\n",
        "    my_numbers_string = my_numbers_string.strip()\n",
        "\n",
        "    winning_numbers_list = winning_numbers_string.split()\n",
        "    my_numbers_list = my_numbers_string.split()\n",
        "\n",
        "    winning_numbers = []\n",
        "    for string in winning_numbers_list:\n",
        "      winning_numbers.append(int(string))\n",
        "\n",
        "    my_numbers = []\n",
        "    for string in my_numbers_list:\n",
        "      my_numbers.append(int(string))\n",
        "\n",
        "    game_score = 0\n",
        "    for number in my_numbers:\n",
        "      if number in winning_numbers:\n",
        "        if game_score == 0:\n",
        "          game_score += 1\n",
        "        else:\n",
        "          game_score *= 2\n",
        "\n",
        "    overall_score += game_score\n",
        "  return overall_score"
      ],
      "metadata": {
        "id": "zOZAqeA7BasS"
      },
      "execution_count": 25,
      "outputs": []
    },
    {
      "cell_type": "code",
      "source": [
        "lines = read_file(\"input.txt\")\n",
        "overall_score = determine_winners(lines)\n",
        "overall_score"
      ],
      "metadata": {
        "colab": {
          "base_uri": "https://localhost:8080/"
        },
        "id": "OUftiWjrADaE",
        "outputId": "863f3f4d-4ed7-4bdc-c3db-20e75aef7696"
      },
      "execution_count": 26,
      "outputs": [
        {
          "output_type": "execute_result",
          "data": {
            "text/plain": [
              "26443"
            ]
          },
          "metadata": {},
          "execution_count": 26
        }
      ]
    },
    {
      "cell_type": "code",
      "source": [],
      "metadata": {
        "id": "cTmmt8tlAFJp"
      },
      "execution_count": null,
      "outputs": []
    }
  ]
}
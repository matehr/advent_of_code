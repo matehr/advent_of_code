{
  "nbformat": 4,
  "nbformat_minor": 0,
  "metadata": {
    "colab": {
      "provenance": [],
      "authorship_tag": "ABX9TyPdiq5/Tg8FkudDXms/ndSY"
    },
    "kernelspec": {
      "name": "python3",
      "display_name": "Python 3"
    },
    "language_info": {
      "name": "python"
    }
  },
  "cells": [
    {
      "cell_type": "code",
      "execution_count": 22,
      "metadata": {
        "id": "CM1qpvXGIxcX"
      },
      "outputs": [],
      "source": [
        "times = [49, 78, 79, 80]\n",
        "records = [298, 1185, 1066, 1181]"
      ]
    },
    {
      "cell_type": "code",
      "source": [
        "beat_record_counter = [0] * len(times)\n",
        "for race_number in range(len(times)):\n",
        "  max_time = times[race_number]\n",
        "  all_possible_times = range(max_time)\n",
        "  for button_time in all_possible_times:\n",
        "    #button_time is equivalent to speed\n",
        "    remaining_time = max_time - button_time\n",
        "    distance = button_time * remaining_time\n",
        "    if distance > records[race_number]:\n",
        "      beat_record_counter[race_number] += 1\n",
        "\n",
        "margin_of_error = 1\n",
        "for num in beat_record_counter:\n",
        "  margin_of_error *= num\n",
        "\n",
        "print(margin_of_error)"
      ],
      "metadata": {
        "colab": {
          "base_uri": "https://localhost:8080/"
        },
        "id": "IdQiqgTzJF5m",
        "outputId": "a4946e5c-803a-4415-9640-f0cb730d989a"
      },
      "execution_count": 23,
      "outputs": [
        {
          "output_type": "stream",
          "name": "stdout",
          "text": [
            "2269432\n"
          ]
        }
      ]
    },
    {
      "cell_type": "code",
      "source": [],
      "metadata": {
        "id": "sPZ2fGkYJnkF"
      },
      "execution_count": null,
      "outputs": []
    }
  ]
}
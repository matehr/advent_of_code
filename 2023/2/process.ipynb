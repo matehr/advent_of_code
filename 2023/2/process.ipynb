{
  "nbformat": 4,
  "nbformat_minor": 0,
  "metadata": {
    "colab": {
      "provenance": [],
      "authorship_tag": "ABX9TyNkNX2Bn79mZJkzrk1DfmTG"
    },
    "kernelspec": {
      "name": "python3",
      "display_name": "Python 3"
    },
    "language_info": {
      "name": "python"
    }
  },
  "cells": [
    {
      "cell_type": "code",
      "execution_count": null,
      "metadata": {
        "id": "1MKDTDimsV8b"
      },
      "outputs": [],
      "source": [
        "with open(\"\", 'r') as file:\n",
        "  for line in file:\n",
        "    print(line)"
      ]
    }
  ]
}
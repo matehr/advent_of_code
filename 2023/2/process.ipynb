{
  "nbformat": 4,
  "nbformat_minor": 0,
  "metadata": {
    "colab": {
      "provenance": [],
      "authorship_tag": "ABX9TyN4l8cHYIaideJt5o1nybmj"
    },
    "kernelspec": {
      "name": "python3",
      "display_name": "Python 3"
    },
    "language_info": {
      "name": "python"
    }
  },
  "cells": [
    {
      "cell_type": "code",
      "source": [
        "import re"
      ],
      "metadata": {
        "id": "2VSHYT8n2Avv"
      },
      "execution_count": 3,
      "outputs": []
    },
    {
      "cell_type": "code",
      "source": [
        "max_values = {\"red\"   : 12,\n",
        "              \"green\" : 13,\n",
        "              \"blue\"  : 14}"
      ],
      "metadata": {
        "id": "WrFeCdsD9tE1"
      },
      "execution_count": 22,
      "outputs": []
    },
    {
      "cell_type": "code",
      "source": [
        "def read_file(path):\n",
        "  lines = []\n",
        "  with open(path, \"r\") as file:\n",
        "    for line in file:\n",
        "      line = re.sub(\"Game \", \"\", line)\n",
        "      lines.append(line)\n",
        "  return lines"
      ],
      "metadata": {
        "id": "bX-uAyPAspNH"
      },
      "execution_count": 23,
      "outputs": []
    },
    {
      "cell_type": "code",
      "source": [
        "def extract_games(lines):\n",
        "  games = []\n",
        "  for line in lines:\n",
        "    game = line.split(\":\")\n",
        "    game[1] = game[1].strip()\n",
        "    game[1] = game[1].split(\";\")\n",
        "    games.append(game)\n",
        "  return games"
      ],
      "metadata": {
        "id": "_7SY1Msttryx"
      },
      "execution_count": 30,
      "outputs": []
    },
    {
      "cell_type": "code",
      "source": [
        "def evaluate_handfuls(game):\n",
        "  for handful in game[1]:\n",
        "    counts_by_color = handful.strip().split(\",\")\n",
        "    for count_by_color in counts_by_color:\n",
        "      (count, color) = count_by_color.strip().split(\" \")\n",
        "      if int(count) > max_values[color]:\n",
        "        return 0\n",
        "  return int(game[0])\n"
      ],
      "metadata": {
        "id": "Kb2quYCOxhyU"
      },
      "execution_count": 60,
      "outputs": []
    },
    {
      "cell_type": "code",
      "source": [
        "sum = 0\n",
        "\n",
        "lines = read_file(\"input.txt\")\n",
        "games = extract_games(lines)\n",
        "\n",
        "for game in games:\n",
        "  sum += evaluate_handfuls(game)\n",
        "\n",
        "sum"
      ],
      "metadata": {
        "colab": {
          "base_uri": "https://localhost:8080/"
        },
        "id": "pXTaDP3PvIuX",
        "outputId": "ec49a196-2928-416c-9618-d3465d3fb75c"
      },
      "execution_count": 61,
      "outputs": [
        {
          "output_type": "stream",
          "name": "stdout",
          "text": [
            "Adding game 1\n",
            "sum=0\n",
            "sum=2\n",
            "sum=5\n",
            "Adding game 4\n",
            "sum=5\n",
            "sum=10\n",
            "Adding game 6\n",
            "sum=10\n",
            "Adding game 7\n",
            "sum=10\n",
            "Adding game 8\n",
            "sum=10\n",
            "Adding game 9\n",
            "sum=10\n",
            "sum=20\n",
            "Adding game 11\n",
            "sum=20\n",
            "Adding game 12\n",
            "sum=20\n",
            "sum=33\n",
            "Adding game 14\n",
            "sum=33\n",
            "sum=48\n",
            "sum=64\n",
            "Adding game 17\n",
            "sum=64\n",
            "Adding game 18\n",
            "sum=64\n",
            "sum=83\n",
            "Adding game 20\n",
            "sum=83\n",
            "Adding game 21\n",
            "sum=83\n",
            "sum=105\n",
            "Adding game 23\n",
            "sum=105\n",
            "sum=129\n",
            "sum=154\n",
            "Adding game 26\n",
            "sum=154\n",
            "sum=181\n",
            "Adding game 28\n",
            "sum=181\n",
            "Adding game 29\n",
            "sum=181\n",
            "sum=211\n",
            "sum=242\n",
            "sum=274\n",
            "sum=307\n",
            "Adding game 34\n",
            "sum=307\n",
            "sum=342\n",
            "Adding game 36\n",
            "sum=342\n",
            "sum=379\n",
            "sum=417\n",
            "sum=456\n",
            "Adding game 40\n",
            "sum=456\n",
            "sum=497\n",
            "sum=539\n",
            "sum=582\n",
            "Adding game 44\n",
            "sum=582\n",
            "Adding game 45\n",
            "sum=582\n",
            "sum=628\n",
            "Adding game 47\n",
            "sum=628\n",
            "Adding game 48\n",
            "sum=628\n",
            "sum=677\n",
            "Adding game 50\n",
            "sum=677\n",
            "sum=728\n",
            "sum=780\n",
            "Adding game 53\n",
            "sum=780\n",
            "Adding game 54\n",
            "sum=780\n",
            "sum=835\n",
            "sum=891\n",
            "Adding game 57\n",
            "sum=891\n",
            "sum=949\n",
            "Adding game 59\n",
            "sum=949\n",
            "sum=1009\n",
            "Adding game 61\n",
            "sum=1009\n",
            "Adding game 62\n",
            "sum=1009\n",
            "Adding game 63\n",
            "sum=1009\n",
            "Adding game 64\n",
            "sum=1009\n",
            "Adding game 65\n",
            "sum=1009\n",
            "Adding game 66\n",
            "sum=1009\n",
            "Adding game 67\n",
            "sum=1009\n",
            "sum=1077\n",
            "sum=1146\n",
            "Adding game 70\n",
            "sum=1146\n",
            "Adding game 71\n",
            "sum=1146\n",
            "Adding game 72\n",
            "sum=1146\n",
            "sum=1219\n",
            "sum=1293\n",
            "sum=1368\n",
            "Adding game 76\n",
            "sum=1368\n",
            "sum=1445\n",
            "sum=1523\n",
            "sum=1602\n",
            "Adding game 80\n",
            "sum=1602\n",
            "Adding game 81\n",
            "sum=1602\n",
            "Adding game 82\n",
            "sum=1602\n",
            "sum=1685\n",
            "Adding game 84\n",
            "sum=1685\n",
            "Adding game 85\n",
            "sum=1685\n",
            "sum=1771\n",
            "Adding game 87\n",
            "sum=1771\n",
            "Adding game 88\n",
            "sum=1771\n",
            "Adding game 89\n",
            "sum=1771\n",
            "Adding game 90\n",
            "sum=1771\n",
            "sum=1862\n",
            "Adding game 92\n",
            "sum=1862\n",
            "Adding game 93\n",
            "sum=1862\n",
            "Adding game 94\n",
            "sum=1862\n",
            "Adding game 95\n",
            "sum=1862\n",
            "Adding game 96\n",
            "sum=1862\n",
            "sum=1959\n",
            "sum=2057\n",
            "sum=2156\n",
            "Adding game 100\n",
            "sum=2156\n"
          ]
        },
        {
          "output_type": "execute_result",
          "data": {
            "text/plain": [
              "2156"
            ]
          },
          "metadata": {},
          "execution_count": 61
        }
      ]
    },
    {
      "cell_type": "code",
      "source": [],
      "metadata": {
        "id": "x73QflpXvtR8"
      },
      "execution_count": null,
      "outputs": []
    }
  ]
}
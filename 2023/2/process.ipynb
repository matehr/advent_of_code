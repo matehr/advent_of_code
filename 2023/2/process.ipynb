{
  "nbformat": 4,
  "nbformat_minor": 0,
  "metadata": {
    "colab": {
      "provenance": [],
      "authorship_tag": "ABX9TyOHSKkZLdHR6FoujdOWow+s"
    },
    "kernelspec": {
      "name": "python3",
      "display_name": "Python 3"
    },
    "language_info": {
      "name": "python"
    }
  },
  "cells": [
    {
      "cell_type": "code",
      "source": [
        "import re"
      ],
      "metadata": {
        "id": "2VSHYT8n2Avv"
      },
      "execution_count": 3,
      "outputs": []
    },
    {
      "cell_type": "code",
      "source": [
        "max_values = {\"red\"   : 12,\n",
        "              \"green\" : 13,\n",
        "              \"blue\"  : 14}"
      ],
      "metadata": {
        "id": "WrFeCdsD9tE1"
      },
      "execution_count": 95,
      "outputs": []
    },
    {
      "cell_type": "code",
      "source": [
        "def read_file(path):\n",
        "  lines = []\n",
        "  with open(path, \"r\") as file:\n",
        "    for line in file:\n",
        "      line = re.sub(\"Game \", \"\", line)\n",
        "      lines.append(line)\n",
        "  return lines"
      ],
      "metadata": {
        "id": "bX-uAyPAspNH"
      },
      "execution_count": 96,
      "outputs": []
    },
    {
      "cell_type": "code",
      "source": [
        "def extract_games(lines):\n",
        "  games = []\n",
        "  for line in lines:\n",
        "    game = line.split(\":\")\n",
        "    game[1] = game[1].strip()\n",
        "    game[1] = game[1].split(\";\")\n",
        "    games.append(game)\n",
        "  return games"
      ],
      "metadata": {
        "id": "_7SY1Msttryx"
      },
      "execution_count": 97,
      "outputs": []
    },
    {
      "cell_type": "code",
      "source": [
        "def evaluate_handfuls(game):\n",
        "  for handful in game[1]:\n",
        "    counts_by_color = handful.strip().split(\",\")\n",
        "    for count_by_color in counts_by_color:\n",
        "      (count, color) = count_by_color.strip().split(\" \")\n",
        "      if int(count) > max_values[color]:\n",
        "        return 0\n",
        "  return int(game[0])\n"
      ],
      "metadata": {
        "id": "Kb2quYCOxhyU"
      },
      "execution_count": 98,
      "outputs": []
    },
    {
      "cell_type": "code",
      "source": [
        "def evaluate_maximums(game):\n",
        "  min_required = {\"red\"   : 0,\n",
        "                  \"green\" : 0,\n",
        "                  \"blue\"  : 0}\n",
        "  for handful in game[1]:\n",
        "    counts_by_color = handful.strip().split(\",\")\n",
        "    for count_by_color in counts_by_color:\n",
        "      (count, color) = count_by_color.strip().split(\" \")\n",
        "      if int(count) > min_required[color]:\n",
        "        min_required[color] = int(count)\n",
        "\n",
        "  product = 1\n",
        "  for value in min_required.values():\n",
        "    product *= int(value)\n",
        "  return product"
      ],
      "metadata": {
        "id": "L7vgizfi9WjR"
      },
      "execution_count": 99,
      "outputs": []
    },
    {
      "cell_type": "code",
      "source": [
        "def part_1():\n",
        "  valid_game_sum = 0\n",
        "\n",
        "  lines = read_file(\"input.txt\")\n",
        "  games = extract_games(lines)\n",
        "\n",
        "  for game in games:\n",
        "    valid_game_sum += evaluate_handfuls(game)\n",
        "\n",
        "  print(f\"Valid Game Sum = {valid_game_sum}\")"
      ],
      "metadata": {
        "id": "7_H9eohl8xbP"
      },
      "execution_count": 100,
      "outputs": []
    },
    {
      "cell_type": "code",
      "source": [
        "def part_2():\n",
        "  maximal_gems = 0\n",
        "\n",
        "  lines = read_file(\"input.txt\")\n",
        "  games = extract_games(lines)\n",
        "\n",
        "  for game in games:\n",
        "    maximal_gems += evaluate_maximums(game)\n",
        "\n",
        "  print (f\"The sum of the product of the minimum number of gems per game is: {maximal_gems}\")"
      ],
      "metadata": {
        "id": "UCfBgdwt9FYX"
      },
      "execution_count": 101,
      "outputs": []
    },
    {
      "cell_type": "code",
      "source": [
        "part_1()\n",
        "part_2()"
      ],
      "metadata": {
        "colab": {
          "base_uri": "https://localhost:8080/"
        },
        "id": "pXTaDP3PvIuX",
        "outputId": "20696a19-10a1-4aab-ca51-cbb453e89bc9"
      },
      "execution_count": 102,
      "outputs": [
        {
          "output_type": "stream",
          "name": "stdout",
          "text": [
            "Valid Game Sum = 2156\n",
            "The sum of the product of the minimum number of gems per game is: 66909\n"
          ]
        }
      ]
    },
    {
      "cell_type": "code",
      "source": [],
      "metadata": {
        "id": "x73QflpXvtR8"
      },
      "execution_count": null,
      "outputs": []
    }
  ]
}
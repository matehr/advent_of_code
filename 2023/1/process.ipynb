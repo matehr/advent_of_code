{
  "nbformat": 4,
  "nbformat_minor": 0,
  "metadata": {
    "colab": {
      "provenance": [],
      "authorship_tag": "ABX9TyMv3SK5a9iLoVdSejq/Zjvh"
    },
    "kernelspec": {
      "name": "python3",
      "display_name": "Python 3"
    },
    "language_info": {
      "name": "python"
    }
  },
  "cells": [
    {
      "cell_type": "code",
      "execution_count": 1,
      "metadata": {
        "colab": {
          "base_uri": "https://localhost:8080/"
        },
        "id": "Y0SRrFYQmaI5",
        "outputId": "cc79c080-eca2-41d8-bf7e-b035063bc1c9"
      },
      "outputs": [
        {
          "output_type": "stream",
          "name": "stdout",
          "text": [
            "Requirement already satisfied: pandas in /usr/local/lib/python3.10/dist-packages (1.5.3)\n",
            "Requirement already satisfied: python-dateutil>=2.8.1 in /usr/local/lib/python3.10/dist-packages (from pandas) (2.8.2)\n",
            "Requirement already satisfied: pytz>=2020.1 in /usr/local/lib/python3.10/dist-packages (from pandas) (2023.3.post1)\n",
            "Requirement already satisfied: numpy>=1.21.0 in /usr/local/lib/python3.10/dist-packages (from pandas) (1.23.5)\n",
            "Requirement already satisfied: six>=1.5 in /usr/local/lib/python3.10/dist-packages (from python-dateutil>=2.8.1->pandas) (1.16.0)\n"
          ]
        }
      ],
      "source": [
        "!pip install pandas"
      ]
    },
    {
      "cell_type": "code",
      "source": [
        "import numpy as np\n",
        "import pandas as pd\n",
        "import re"
      ],
      "metadata": {
        "id": "UQVpODzBme7C"
      },
      "execution_count": 2,
      "outputs": []
    },
    {
      "cell_type": "code",
      "source": [
        "def convert_words_to_numbers(row):\n",
        "  \"\"\"Add numerical characters to represent words\n",
        "\n",
        "  This functions adds the numerical representation of a spelled out number. It adds the number before\n",
        "  the word becuase the last letter of the word could also be the start of another word and adding the\n",
        "  number at the end would break the spelling.\n",
        "\n",
        "  It is also necessary to repeat the first letter of the word before the number in case it is the last\n",
        "  letter of another word.\n",
        "\n",
        "  Examples:\n",
        "  nineight = 98\n",
        "  eightwone = 821\n",
        "  eighttwoone = 821\n",
        "  \"\"\"\n",
        "  text = row[0]\n",
        "  text = re.sub(r'(one)', r'o1\\1', text)\n",
        "  text = re.sub(r'(two)', r't2\\1', text)\n",
        "  text = re.sub(r'(three)', r't3\\1', text)\n",
        "  text = re.sub(r'(four)', r'f4\\1', text)\n",
        "  text = re.sub(r'(five)', r'f5\\1', text)\n",
        "  text = re.sub(r'(six)', r's6\\1', text)\n",
        "  text = re.sub(r'(seven)', r's7\\1', text)\n",
        "  text = re.sub(r'(eight)', r'e8\\1', text)\n",
        "  text = re.sub(r'(nine)', r'n9\\1', text)\n",
        "\n",
        "def process(row):\n",
        "  text = convert_words_to_numbers(row)\n",
        "\n",
        "  #Take the first value in the Series and split it into a list of characters\n",
        "  chars = [*text]\n",
        "  print(chars)\n",
        "\n",
        "  #Evaluate each char, if it is numeric add it to a list of numbers\n",
        "  numbers = []\n",
        "  for char in chars:\n",
        "    if char.isnumeric():\n",
        "      numbers.append(char)\n",
        "\n",
        "  #Build the calibration value by selecting the first and last digit in each list\n",
        "  #If only 1 digit, repeat the value\n",
        "  calibration_value = numbers[0] + numbers[-1]\n",
        "  print(calibration_value)\n",
        "  return int(calibration_value)\n",
        "\n",
        "df = pd.read_csv(\"input.csv\", header=None)\n",
        "df[\"calibration_value\"] = df.apply(process, axis=\"columns\")\n",
        "df[\"calibration_value\"].sum()"
      ],
      "metadata": {
        "id": "RC6KoVXZmkR2"
      },
      "execution_count": null,
      "outputs": []
    }
  ]
}
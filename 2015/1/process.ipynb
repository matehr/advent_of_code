{
  "nbformat": 4,
  "nbformat_minor": 0,
  "metadata": {
    "colab": {
      "provenance": [],
      "authorship_tag": "ABX9TyNYqaKSUutc90gaHnIgJTfA"
    },
    "kernelspec": {
      "name": "python3",
      "display_name": "Python 3"
    },
    "language_info": {
      "name": "python"
    }
  },
  "cells": [
    {
      "cell_type": "code",
      "execution_count": 6,
      "metadata": {
        "colab": {
          "base_uri": "https://localhost:8080/"
        },
        "id": "GwjjcDuCOULz",
        "outputId": "670eb1d0-022d-4cd3-e780-aa6738f4e676"
      },
      "outputs": [
        {
          "output_type": "stream",
          "name": "stdout",
          "text": [
            "1783\n",
            "1785\n",
            "232\n"
          ]
        }
      ],
      "source": [
        "with open(\"input.txt\", \"r\") as input:\n",
        "  floor = 0\n",
        "  counter = 0\n",
        "  for line in input:\n",
        "    for char in line:\n",
        "      if char == \"(\":\n",
        "        floor += 1\n",
        "        counter += 1\n",
        "      else:\n",
        "        floor -= 1\n",
        "        counter += 1\n",
        "        if floor == -1:\n",
        "          print(counter)\n",
        "  print(floor)"
      ]
    },
    {
      "cell_type": "code",
      "source": [],
      "metadata": {
        "id": "XtSBRpj3OzZl"
      },
      "execution_count": null,
      "outputs": []
    }
  ]
}